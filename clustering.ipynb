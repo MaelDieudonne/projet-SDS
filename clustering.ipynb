{
 "cells": [
  {
   "cell_type": "code",
   "execution_count": null,
   "id": "676fe747-bd8b-4115-83bc-0a18c2c9cd24",
   "metadata": {},
   "outputs": [],
   "source": [
    "# pip install torchmetrics\n",
    "# pip install stepmix\n",
    "# pip install kneed"
   ]
  },
  {
   "cell_type": "code",
   "execution_count": 1,
   "id": "4887e505-68fb-40c0-adb5-06ef3199e312",
   "metadata": {},
   "outputs": [],
   "source": [
    "import pandas as pd\n",
    "import numpy as np\n",
    "import matplotlib.pyplot as plt\n",
    "\n",
    "import warnings\n",
    "from joblib import Parallel, delayed # for parallelization\n",
    "from itertools import product\n",
    "\n",
    "# Preprocessing\n",
    "from sklearn.preprocessing import StandardScaler, LabelEncoder\n",
    "\n",
    "# Clustering\n",
    "from sklearn.cluster import KMeans, AgglomerativeClustering, HDBSCAN\n",
    "from stepmix.stepmix import StepMix\n",
    "\n",
    "# Evaluation\n",
    "from sklearn.metrics import silhouette_score, calinski_harabasz_score, davies_bouldin_score\n",
    "import torch\n",
    "from torchmetrics.clustering import DunnIndex\n",
    "from collections import Counter\n",
    "from kneed import KneeLocator\n",
    "\n",
    "# Visualization\n",
    "from sklearn.decomposition import PCA\n",
    "from scipy.spatial import ConvexHull"
   ]
  },
  {
   "cell_type": "markdown",
   "id": "53d1e61c-3574-4482-9529-59268b7fb8d6",
   "metadata": {},
   "source": [
    "# Preparation\n",
    "## Data"
   ]
  },
  {
   "cell_type": "code",
   "execution_count": 2,
   "id": "1190dd79-e4b5-4684-98b0-0f6ce7797686",
   "metadata": {},
   "outputs": [],
   "source": [
    "data2004_i = pd.read_parquet(\"data/data2004_i.parquet\") # load imputed data\n",
    "\n",
    "# Dataset with numeric outcomes\n",
    "data_n = data2004_i[[\n",
    "    'clseusa_n', 'ambornin_n', 'amcit_n', 'amlived_n', 'amenglsh_n', \n",
    "     'amchrstn_n', 'amgovt_n', 'amfeel_n', 'amcitizn_n', 'amshamed_n', \n",
    "     'belikeus_n', 'ambetter_n', 'ifwrong_n', 'proudsss_n', 'proudgrp_n', \n",
    "     'proudpol_n', 'prouddem_n', 'proudeco_n', 'proudspt_n', 'proudart_n', \n",
    "     'proudhis_n', 'proudmil_n', 'proudsci_n']]\n",
    "\n",
    "# Dataset with categorical outcomes\n",
    "data_f = data2004_i[[\n",
    "     'clseusa_f', 'ambornin_f', 'amcit_f', 'amlived_f', 'amenglsh_f', \n",
    "     'amchrstn_f', 'amgovt_f', 'amfeel_f', 'amcitizn_f', 'amshamed_f', \n",
    "     'belikeus_f', 'ambetter_f', 'ifwrong_f', 'proudsss_f', 'proudgrp_f', \n",
    "     'proudpol_f', 'prouddem_f', 'proudeco_f', 'proudspt_f', 'proudart_f', \n",
    "     'proudhis_f', 'proudmil_f', 'proudsci_f']]\n",
    "\n",
    "# Dataset with controls\n",
    "controls = data2004_i[[\n",
    "    'sex', 'race_f', 'born_usa', 'party_fs', 'religstr_f', \n",
    "    'reltrad_f', 'region_f']]"
   ]
  },
  {
   "cell_type": "markdown",
   "id": "9d170e0b-2c98-40ec-bda1-12743bfd5b9e",
   "metadata": {},
   "source": [
    "## Validity indexes"
   ]
  },
  {
   "cell_type": "code",
   "execution_count": 3,
   "id": "01c84df2-d928-437c-b4f8-200cc8b0d208",
   "metadata": {},
   "outputs": [],
   "source": [
    "# Custom score functions to avoid throwing errors when undefined\n",
    "def sil_score(data, pred_clust):\n",
    "    try:\n",
    "        sil_score = silhouette_score(data, pred_clust)\n",
    "    except ValueError:\n",
    "        sil_score = np.nan\n",
    "    return sil_score\n",
    "\n",
    "def ch_score(data, pred_clust):\n",
    "    try:\n",
    "        ch_score = calinski_harabasz_score(data, pred_clust)\n",
    "    except ValueError:\n",
    "        ch_score = np.nan\n",
    "    return ch_score\n",
    "\n",
    "def db_score(data, pred_clust):\n",
    "    try:\n",
    "        db_score = davies_bouldin_score(data, pred_clust)\n",
    "    except ValueError:\n",
    "        db_score = np.nan\n",
    "    return db_score\n",
    "\n",
    "def dunn_score(data, pred_clust):\n",
    "    torch_data = np.array(data)\n",
    "    torch_data = torch.tensor(torch_data, dtype=torch.float32)\n",
    "    torch_pred_clust = torch.tensor(pred_clust, dtype=torch.int64)\n",
    "\n",
    "    dunn_metric = DunnIndex()\n",
    "    \n",
    "    try:\n",
    "        dunn_score = float(dunn_metric(torch_data, torch_pred_clust))\n",
    "    except Exception:\n",
    "        dunn_score = np.nan\n",
    " \n",
    "    return dunn_score\n",
    "\n",
    "def inertia(data, labels):\n",
    "    data = np.asarray(data)\n",
    "    \n",
    "    inertia = 0\n",
    "    for cluster in np.unique(labels):\n",
    "        cluster_points = data[labels == cluster]\n",
    "        cluster_centroid = np.mean(cluster_points, axis=0)\n",
    "        inertia += np.sum((cluster_points - cluster_centroid) ** 2)\n",
    "        \n",
    "    return inertia\n",
    "\n",
    "def clust_size(labels):\n",
    "    cluster_sizes = Counter(labels)\n",
    "    min_size = min(cluster_sizes.values())\n",
    "    max_size = max(cluster_sizes.values())\n",
    "    \n",
    "    return min_size, max_size"
   ]
  },
  {
   "cell_type": "code",
   "execution_count": 4,
   "id": "cf65c0e6-238a-4879-87e3-074f85d8333f",
   "metadata": {},
   "outputs": [],
   "source": [
    "# Function to return all validity indexes at once\n",
    "def get_metrics(model, params, n, data, pred_clust, **additional_metrics):\n",
    "    base_metrics = {\n",
    "        'model': model,\n",
    "        'params': params,\n",
    "        'n_clust': n,\n",
    "        'min_clust_size': clust_size(pred_clust)[0],\n",
    "        'max_clust_size': clust_size(pred_clust)[1],\n",
    "        'silhouette': sil_score(data, pred_clust),\n",
    "        'calinski_harabasz': ch_score(data, pred_clust),\n",
    "        'davies_bouldin': db_score(data, pred_clust),\n",
    "        'dunn': dunn_score(data, pred_clust),\n",
    "        'inertia': inertia(data, pred_clust)\n",
    "    }\n",
    "\n",
    "    base_metrics.update(additional_metrics)\n",
    "    return base_metrics"
   ]
  },
  {
   "cell_type": "code",
   "execution_count": 5,
   "id": "aabf9fd9-5fbf-4b62-aa77-f9b4e5a00284",
   "metadata": {},
   "outputs": [],
   "source": [
    "# Function to display the optimal numbers of clutsters according to each validity index\n",
    "def elbow_plot(df, val_index):\n",
    "    res = df.dropna(subset=[val_index])\n",
    "\n",
    "    x = res[\"n_clust\"]\n",
    "    y = res[val_index]\n",
    "\n",
    "    if val_index in ['davies_bouldin', 'entropy']:\n",
    "        knee_locator = KneeLocator(x, y, curve='concave', direction='increasing')\n",
    "    else:\n",
    "        knee_locator = KneeLocator(x, y, curve='convex', direction='decreasing')\n",
    "\n",
    "    plt.figure(figsize=(8, 4))\n",
    "    plt.plot(x, y, marker=\"o\", linestyle=\"-\", label=val_index)\n",
    "    plt.axvline(x=knee_locator.knee, color=\"r\", linestyle=\"--\", label=f\"Optimal k={knee_locator.knee}\")\n",
    "    plt.xlabel(\"Number of Clusters\")\n",
    "    plt.ylabel(f\"{val_index} index\")\n",
    "    plt.title(f\"Elbow Method for {val_index} index\")\n",
    "    plt.legend()\n",
    "    plt.show()"
   ]
  },
  {
   "cell_type": "markdown",
   "id": "ef0b97bf-43e0-4516-b3ee-f226e4ebd772",
   "metadata": {},
   "source": [
    "## Parameters"
   ]
  },
  {
   "cell_type": "code",
   "execution_count": 6,
   "id": "c55b24ac-f239-4dea-9283-e3491ec65ee5",
   "metadata": {
    "scrolled": true
   },
   "outputs": [],
   "source": [
    "max_clust = 12\n",
    "max_threads = 8\n",
    "\n",
    "val_indexes = ['silhouette', 'calinski_harabasz', 'davies_bouldin', 'dunn', 'inertia']"
   ]
  },
  {
   "cell_type": "markdown",
   "id": "1513b5bc-963b-41e5-a6bd-12f45f22c2f5",
   "metadata": {},
   "source": [
    "# Latent models\n",
    "With the StepMix package, see: https://github.com/Labo-Lacourse/stepmix"
   ]
  },
  {
   "cell_type": "code",
   "execution_count": 7,
   "id": "c78aabed-4cb1-4e87-a35f-797240d34b81",
   "metadata": {},
   "outputs": [],
   "source": [
    "# Parameters\n",
    "clust_range = range(1, max_clust+1)\n",
    "\n",
    "opt_params = {\n",
    "    'method': 'gradient',\n",
    "    'intercept': True,\n",
    "    'max_iter': 2500,\n",
    "}"
   ]
  },
  {
   "cell_type": "code",
   "execution_count": 8,
   "id": "aa743e87-3ef4-4e07-9610-59a15540bca1",
   "metadata": {},
   "outputs": [
    {
     "name": "stdout",
     "output_type": "stream",
     "text": [
      "Fitting StepMix...\n",
      "Fitting StepMix...\n",
      "Fitting StepMix...\n",
      "Fitting StepMix...\n",
      "Fitting StepMix...\n",
      "Fitting StepMix...\n",
      "Fitting StepMix...\n",
      "Fitting StepMix...\n",
      "Fitting StepMix...\n"
     ]
    },
    {
     "name": "stderr",
     "output_type": "stream",
     "text": [
      "Initializations (n_init) : 100%|██████████| 3/3 [00:00<00:00, 97.24it/s, max_LL=-3.07e+4, max_avg_LL=-25.3]\n",
      "Initializations (n_init) : 100%|██████████| 3/3 [00:00<00:00, 22.39it/s, max_LL=-2.89e+4, max_avg_LL=-23.8]\n",
      "Initializations (n_init) : 100%|██████████| 3/3 [00:00<00:00,  9.97it/s, max_LL=-2.82e+4, max_avg_LL=-23.2]\n"
     ]
    },
    {
     "name": "stdout",
     "output_type": "stream",
     "text": [
      "Fitting StepMix...\n",
      "Fitting StepMix...\n"
     ]
    },
    {
     "name": "stderr",
     "output_type": "stream",
     "text": [
      "Initializations (n_init) : 100%|██████████| 3/3 [00:00<00:00,  3.96it/s, max_LL=-2.74e+4, max_avg_LL=-22.5]\n",
      "Initializations (n_init) :  33%|███▎      | 1/3 [00:00<00:01,  1.27it/s, max_LL=-2.69e+4, max_avg_LL=-22.1]"
     ]
    },
    {
     "name": "stdout",
     "output_type": "stream",
     "text": [
      "Fitting StepMix...\n"
     ]
    },
    {
     "name": "stderr",
     "output_type": "stream",
     "text": [
      "Initializations (n_init) : 100%|██████████| 3/3 [00:00<00:00,  3.49it/s, max_LL=-2.77e+4, max_avg_LL=-22.8]\n",
      "Initializations (n_init) : 100%|██████████| 3/3 [00:01<00:00,  2.85it/s, max_LL=-2.72e+4, max_avg_LL=-22.4]\n",
      "Initializations (n_init) : 100%|██████████| 3/3 [00:01<00:00,  2.37it/s, max_LL=-2.7e+4, max_avg_LL=-22.2]\n",
      "Initializations (n_init) : 100%|██████████| 3/3 [00:02<00:00,  1.24it/s, max_LL=-2.68e+4, max_avg_LL=-22.1]\n",
      "Initializations (n_init) : 100%|██████████| 3/3 [00:03<00:00,  1.02s/it, max_LL=-2.66e+4, max_avg_LL=-21.9]\n",
      "Initializations (n_init) : 100%|██████████| 3/3 [00:03<00:00,  1.08s/it, max_LL=-2.67e+4, max_avg_LL=-22]\n",
      "Initializations (n_init) : 100%|██████████| 3/3 [00:03<00:00,  1.02s/it, max_LL=-2.64e+4, max_avg_LL=-21.7]\n",
      "Initializations (n_init) : 100%|██████████| 3/3 [00:03<00:00,  1.07s/it, max_LL=-2.63e+4, max_avg_LL=-21.7]\n",
      "Initializations (n_init) : 100%|██████████| 3/3 [00:00<00:00, 901.42it/s, max_LL=-3.92e+4, max_avg_LL=-32.2]\n",
      "Initializations (n_init) : 100%|██████████| 3/3 [00:00<00:00, 75.80it/s, max_LL=-2.6e+4, max_avg_LL=-21.4]\n",
      "Initializations (n_init) : 100%|██████████| 3/3 [00:00<00:00, 66.16it/s, max_LL=-2.26e+4, max_avg_LL=-18.6]\n",
      "Initializations (n_init) : 100%|██████████| 3/3 [00:00<00:00, 57.16it/s, max_LL=-1.96e+4, max_avg_LL=-16.1]\n",
      "Initializations (n_init) : 100%|██████████| 3/3 [00:00<00:00, 55.65it/s, max_LL=-1.14e+4, max_avg_LL=-9.41]\n",
      "Initializations (n_init) : 100%|██████████| 3/3 [00:00<00:00, 27.21it/s, max_LL=-1.19e+4, max_avg_LL=-9.75]\n",
      "Initializations (n_init) : 100%|██████████| 3/3 [00:00<00:00, 23.88it/s, max_LL=-1.2e+4, max_avg_LL=-9.86]\n",
      "Initializations (n_init) : 100%|██████████| 3/3 [00:00<00:00, 31.27it/s, max_LL=-7.33e+3, max_avg_LL=-6.04]\n",
      "Initializations (n_init) : 100%|██████████| 3/3 [00:00<00:00, 25.91it/s, max_LL=-1.1e+4, max_avg_LL=-9.04]\n"
     ]
    },
    {
     "name": "stdout",
     "output_type": "stream",
     "text": [
      "Fitting StepMix...\n",
      "Fitting StepMix...\n",
      "Fitting StepMix...\n",
      "Fitting StepMix...\n",
      "Fitting StepMix...\n",
      "Fitting StepMix...\n",
      "Fitting StepMix...\n",
      "Fitting StepMix...\n",
      "Fitting StepMix...\n",
      "Fitting StepMix...\n",
      "Fitting StepMix...\n",
      "Fitting StepMix...\n"
     ]
    },
    {
     "name": "stderr",
     "output_type": "stream",
     "text": [
      "Initializations (n_init) : 100%|██████████| 3/3 [00:00<00:00, 23.97it/s, max_LL=-9.71e+3, max_avg_LL=-7.99]\n",
      "Initializations (n_init) : 100%|██████████| 3/3 [00:00<00:00, 22.69it/s, max_LL=-8.79e+3, max_avg_LL=-7.23]\n",
      "Initializations (n_init) : 100%|██████████| 3/3 [00:00<00:00, 20.09it/s, max_LL=-7.37e+3, max_avg_LL=-6.07]\n"
     ]
    }
   ],
   "source": [
    "# Without covariates\n",
    "def do_StepMix(n, type, data):\n",
    "    with warnings.catch_warnings():\n",
    "        warnings.simplefilter(\"ignore\", category=FutureWarning)\n",
    "\n",
    "        latent_mod = StepMix(\n",
    "            n_components = n, \n",
    "            measurement = type, \n",
    "            n_init = 3,\n",
    "            init_params = 'kmeans',\n",
    "            structural_params = opt_params,\n",
    "            random_state = 123)\n",
    "        \n",
    "        latent_mod.fit(data)\n",
    "        pred_clust = latent_mod.predict(data)\n",
    "\n",
    "        model = 'LCA' if type == 'categorical' else 'LPA'\n",
    "        params = 'without covariates'\n",
    "        loglik = latent_mod.score(data)\n",
    "        aic = latent_mod.aic(data)\n",
    "        bic = latent_mod.aic(data)\n",
    "        entropy = latent_mod.entropy(data)\n",
    "\n",
    "    return get_metrics(model, params, n, data, pred_clust, LL = loglik, aic = aic, bic = bic, entropy = entropy)\n",
    "\n",
    "data = data_f.apply(lambda col: LabelEncoder().fit_transform(col))\n",
    "cat_results = Parallel(n_jobs=8)(delayed(do_StepMix)(n, 'categorical', data) for n in clust_range)\n",
    "LCA_all = pd.DataFrame(cat_results)\n",
    "\n",
    "# Data preprocessing?\n",
    "num_results = Parallel(n_jobs=8)(delayed(do_StepMix)(n, 'continuous', data_n) for n in clust_range)\n",
    "LPA_all = pd.DataFrame(num_results)"
   ]
  },
  {
   "cell_type": "code",
   "execution_count": null,
   "id": "9d177789-db00-4153-8227-5ec8932dd193",
   "metadata": {},
   "outputs": [],
   "source": [
    "for val_index in val_indexes + ['aic', 'bic', 'entropy']:\n",
    "    elbow_plot(LCA_all, val_index)"
   ]
  },
  {
   "cell_type": "code",
   "execution_count": 9,
   "id": "df1461c4-fd28-4831-96e2-c4edc004c06f",
   "metadata": {},
   "outputs": [
    {
     "name": "stderr",
     "output_type": "stream",
     "text": [
      "Initializations (n_init) : 100%|██████████| 3/3 [00:00<00:00, 228.29it/s, max_LL=-3.07e+4, max_avg_LL=-25.3]\n",
      "Initializations (n_init) :   0%|          | 0/3 [00:00<?, ?it/s]"
     ]
    },
    {
     "name": "stdout",
     "output_type": "stream",
     "text": [
      "Fitting StepMix...\n",
      "Fitting StepMix...\n",
      "Fitting StepMix...\n",
      "Fitting StepMix...\n",
      "Fitting StepMix...\n",
      "Fitting StepMix...\n",
      "Fitting StepMix...\n",
      "Fitting StepMix...\n",
      "Fitting StepMix...\n"
     ]
    },
    {
     "name": "stderr",
     "output_type": "stream",
     "text": [
      "Initializations (n_init) : 100%|██████████| 3/3 [02:08<00:00, 42.88s/it, max_LL=-2.88e+4, max_avg_LL=-23.7]\n",
      "Initializations (n_init) :   0%|          | 0/3 [00:00<?, ?it/s]"
     ]
    },
    {
     "name": "stdout",
     "output_type": "stream",
     "text": [
      "Fitting StepMix...\n"
     ]
    },
    {
     "name": "stderr",
     "output_type": "stream",
     "text": [
      "Initializations (n_init) : 100%|██████████| 3/3 [03:56<00:00, 78.77s/it, max_LL=-2.81e+4, max_avg_LL=-23.1]\n",
      "Initializations (n_init) :   0%|          | 0/3 [00:00<?, ?it/s]"
     ]
    },
    {
     "name": "stdout",
     "output_type": "stream",
     "text": [
      "Fitting StepMix...\n"
     ]
    },
    {
     "name": "stderr",
     "output_type": "stream",
     "text": [
      "Initializations (n_init) : 100%|██████████| 3/3 [13:53<00:00, 277.86s/it, max_LL=-2.75e+4, max_avg_LL=-22.7]\n",
      "/Users/mael/.pyenv/versions/3.10.16/envs/tensor/lib/python3.10/site-packages/stepmix/stepmix.py:968: ConvergenceWarning: Initializations did not converge. Try different init parameters, or increase max_iter, abs_tol, rel_tol or check for degenerate data.\n",
      "  warnings.warn(\n",
      "Initializations (n_init) :   0%|          | 0/3 [00:00<?, ?it/s]"
     ]
    },
    {
     "name": "stdout",
     "output_type": "stream",
     "text": [
      "Fitting StepMix...\n"
     ]
    },
    {
     "name": "stderr",
     "output_type": "stream",
     "text": [
      "Initializations (n_init) : 100%|██████████| 3/3 [15:11<00:00, 303.91s/it, max_LL=-2.73e+4, max_avg_LL=-22.5]\n",
      "/Users/mael/.pyenv/versions/3.10.16/envs/tensor/lib/python3.10/site-packages/stepmix/stepmix.py:968: ConvergenceWarning: Initializations did not converge. Try different init parameters, or increase max_iter, abs_tol, rel_tol or check for degenerate data.\n",
      "  warnings.warn(\n",
      "Initializations (n_init) : 100%|██████████| 3/3 [15:21<00:00, 307.10s/it, max_LL=-2.69e+4, max_avg_LL=-22.2]\n",
      "/Users/mael/.pyenv/versions/3.10.16/envs/tensor/lib/python3.10/site-packages/stepmix/stepmix.py:968: ConvergenceWarning: Initializations did not converge. Try different init parameters, or increase max_iter, abs_tol, rel_tol or check for degenerate data.\n",
      "  warnings.warn(\n",
      "Initializations (n_init) : 100%|██████████| 3/3 [16:18<00:00, 326.13s/it, max_LL=-2.66e+4, max_avg_LL=-21.9]\n",
      "/Users/mael/.pyenv/versions/3.10.16/envs/tensor/lib/python3.10/site-packages/stepmix/stepmix.py:968: ConvergenceWarning: Initializations did not converge. Try different init parameters, or increase max_iter, abs_tol, rel_tol or check for degenerate data.\n",
      "  warnings.warn(\n",
      "Initializations (n_init) : 100%|██████████| 3/3 [17:14<00:00, 344.77s/it, max_LL=-2.67e+4, max_avg_LL=-22]6]\n",
      "/Users/mael/.pyenv/versions/3.10.16/envs/tensor/lib/python3.10/site-packages/stepmix/stepmix.py:968: ConvergenceWarning: Initializations did not converge. Try different init parameters, or increase max_iter, abs_tol, rel_tol or check for degenerate data.\n",
      "  warnings.warn(\n",
      "Initializations (n_init) : 100%|██████████| 3/3 [18:48<00:00, 376.26s/it, max_LL=-2.64e+4, max_avg_LL=-21.8]\n",
      "/Users/mael/.pyenv/versions/3.10.16/envs/tensor/lib/python3.10/site-packages/stepmix/stepmix.py:968: ConvergenceWarning: Initializations did not converge. Try different init parameters, or increase max_iter, abs_tol, rel_tol or check for degenerate data.\n",
      "  warnings.warn(\n",
      "Initializations (n_init) : 100%|██████████| 3/3 [19:52<00:00, 397.34s/it, max_LL=-2.62e+4, max_avg_LL=-21.6]\n",
      "/Users/mael/.pyenv/versions/3.10.16/envs/tensor/lib/python3.10/site-packages/stepmix/stepmix.py:968: ConvergenceWarning: Initializations did not converge. Try different init parameters, or increase max_iter, abs_tol, rel_tol or check for degenerate data.\n",
      "  warnings.warn(\n",
      "Initializations (n_init) : 100%|██████████| 3/3 [19:15<00:00, 385.18s/it, max_LL=-2.61e+4, max_avg_LL=-21.5]\n",
      "/Users/mael/.pyenv/versions/3.10.16/envs/tensor/lib/python3.10/site-packages/stepmix/stepmix.py:968: ConvergenceWarning: Initializations did not converge. Try different init parameters, or increase max_iter, abs_tol, rel_tol or check for degenerate data.\n",
      "  warnings.warn(\n",
      "Initializations (n_init) : 100%|██████████| 3/3 [31:16<00:00, 625.58s/it, max_LL=-2.61e+4, max_avg_LL=-21.5]\n",
      "/Users/mael/.pyenv/versions/3.10.16/envs/tensor/lib/python3.10/site-packages/stepmix/stepmix.py:968: ConvergenceWarning: Initializations did not converge. Try different init parameters, or increase max_iter, abs_tol, rel_tol or check for degenerate data.\n",
      "  warnings.warn(\n"
     ]
    },
    {
     "name": "stdout",
     "output_type": "stream",
     "text": [
      "Fitting StepMix...\n"
     ]
    },
    {
     "name": "stderr",
     "output_type": "stream",
     "text": [
      "Initializations (n_init) : 100%|██████████| 3/3 [00:00<00:00, 760.30it/s, max_LL=-3.92e+4, max_avg_LL=-32.2]\n",
      "Initializations (n_init) :   0%|          | 0/3 [00:00<?, ?it/s]"
     ]
    },
    {
     "name": "stdout",
     "output_type": "stream",
     "text": [
      "Fitting StepMix...\n",
      "Fitting StepMix...\n",
      "Fitting StepMix...\n",
      "Fitting StepMix...\n",
      "Fitting StepMix...\n",
      "Fitting StepMix...\n",
      "Fitting StepMix...\n",
      "Fitting StepMix...\n"
     ]
    },
    {
     "name": "stderr",
     "output_type": "stream",
     "text": [
      "Initializations (n_init) : 100%|██████████| 3/3 [33:11<00:00, 663.94s/it, max_LL=-2.6e+4, max_avg_LL=-21.4]\n",
      "Initializations (n_init) :   0%|          | 0/3 [00:00<?, ?it/s]"
     ]
    },
    {
     "name": "stdout",
     "output_type": "stream",
     "text": [
      "Fitting StepMix...\n"
     ]
    },
    {
     "name": "stderr",
     "output_type": "stream",
     "text": [
      "Initializations (n_init) : 100%|██████████| 3/3 [58:35<00:00, 1171.69s/it, max_LL=-2.25e+4, max_avg_LL=-18.5]\n",
      "Initializations (n_init) :   0%|          | 0/3 [00:00<?, ?it/s]"
     ]
    },
    {
     "name": "stdout",
     "output_type": "stream",
     "text": [
      "Fitting StepMix...\n"
     ]
    },
    {
     "name": "stderr",
     "output_type": "stream",
     "text": [
      "Initializations (n_init) : 100%|██████████| 3/3 [1:55:15<00:00, 2305.26s/it, max_LL=-1.95e+4, max_avg_LL=-16].25]\n",
      "Initializations (n_init) :   0%|          | 0/3 [00:00<?, ?it/s]"
     ]
    },
    {
     "name": "stdout",
     "output_type": "stream",
     "text": [
      "Fitting StepMix...\n"
     ]
    },
    {
     "name": "stderr",
     "output_type": "stream",
     "text": [
      "Initializations (n_init) : 100%|██████████| 3/3 [1:58:42<00:00, 2374.23s/it, max_LL=-1.05e+4, max_avg_LL=-8.65]  \n",
      "Initializations (n_init) : 100%|██████████| 3/3 [2:01:02<00:00, 2420.96s/it, max_LL=-1.4e+4, max_avg_LL=-11.5]]  \n",
      "/Users/mael/.pyenv/versions/3.10.16/envs/tensor/lib/python3.10/site-packages/stepmix/stepmix.py:968: ConvergenceWarning: Initializations did not converge. Try different init parameters, or increase max_iter, abs_tol, rel_tol or check for degenerate data.\n",
      "  warnings.warn(\n",
      "Initializations (n_init) : 100%|██████████| 3/3 [2:01:43<00:00, 2434.37s/it, max_LL=-1.02e+4, max_avg_LL=-8.42]\n",
      "/Users/mael/.pyenv/versions/3.10.16/envs/tensor/lib/python3.10/site-packages/stepmix/stepmix.py:968: ConvergenceWarning: Initializations did not converge. Try different init parameters, or increase max_iter, abs_tol, rel_tol or check for degenerate data.\n",
      "  warnings.warn(\n",
      "Initializations (n_init) : 100%|██████████| 3/3 [2:01:45<00:00, 2435.07s/it, max_LL=-1.14e+4, max_avg_LL=-9.39]\n",
      "/Users/mael/.pyenv/versions/3.10.16/envs/tensor/lib/python3.10/site-packages/stepmix/stepmix.py:968: ConvergenceWarning: Initializations did not converge. Try different init parameters, or increase max_iter, abs_tol, rel_tol or check for degenerate data.\n",
      "  warnings.warn(\n",
      "Initializations (n_init) : 100%|██████████| 3/3 [2:04:06<00:00, 2482.16s/it, max_LL=-1.12e+4, max_avg_LL=-9.25]  \n",
      "/Users/mael/.pyenv/versions/3.10.16/envs/tensor/lib/python3.10/site-packages/stepmix/stepmix.py:968: ConvergenceWarning: Initializations did not converge. Try different init parameters, or increase max_iter, abs_tol, rel_tol or check for degenerate data.\n",
      "  warnings.warn(\n",
      "Initializations (n_init) : 100%|██████████| 3/3 [1:34:10<00:00, 1883.54s/it, max_LL=-6.45e+3, max_avg_LL=-5.31]\n",
      "/Users/mael/.pyenv/versions/3.10.16/envs/tensor/lib/python3.10/site-packages/stepmix/stepmix.py:968: ConvergenceWarning: Initializations did not converge. Try different init parameters, or increase max_iter, abs_tol, rel_tol or check for degenerate data.\n",
      "  warnings.warn(\n",
      "Initializations (n_init) : 100%|██████████| 3/3 [1:09:25<00:00, 1388.55s/it, max_LL=-9.53e+3, max_avg_LL=-7.84]\n",
      "/Users/mael/.pyenv/versions/3.10.16/envs/tensor/lib/python3.10/site-packages/stepmix/stepmix.py:968: ConvergenceWarning: Initializations did not converge. Try different init parameters, or increase max_iter, abs_tol, rel_tol or check for degenerate data.\n",
      "  warnings.warn(\n",
      "Initializations (n_init) : 100%|██████████| 3/3 [16:23<00:00, 327.97s/it, max_LL=-7.59e+3, max_avg_LL=-6.25]\n",
      "/Users/mael/.pyenv/versions/3.10.16/envs/tensor/lib/python3.10/site-packages/stepmix/stepmix.py:968: ConvergenceWarning: Initializations did not converge. Try different init parameters, or increase max_iter, abs_tol, rel_tol or check for degenerate data.\n",
      "  warnings.warn(\n"
     ]
    }
   ],
   "source": [
    "# With covariates\n",
    "def do_StepMix_covar(n, type, data):\n",
    "    with warnings.catch_warnings():\n",
    "        warnings.simplefilter(\"ignore\", category=FutureWarning)\n",
    "        \n",
    "        latent_mod = StepMix(\n",
    "            n_components = n,\n",
    "            measurement = type,\n",
    "            n_init = 3,\n",
    "            init_params = 'kmeans',\n",
    "            structural = 'covariate', \n",
    "            n_steps = 1,\n",
    "            structural_params = opt_params,\n",
    "            random_state = 123)\n",
    "        \n",
    "        latent_mod.fit(data, controls_dum)\n",
    "        pred_clust = latent_mod.predict(data)\n",
    "        \n",
    "        model = 'LCA' if type == 'categorical' else 'LPA'\n",
    "        params = 'with covariates'\n",
    "        loglik = latent_mod.score(data)\n",
    "        aic = latent_mod.aic(data)\n",
    "        bic = latent_mod.aic(data)\n",
    "        entropy = latent_mod.entropy(data)\n",
    "\n",
    "    return get_metrics(model, params, n, data, pred_clust, LL = loglik, aic = aic, bic = bic, entropy = entropy)\n",
    "\n",
    "controls_dum = pd.get_dummies(controls)\n",
    "\n",
    "data = data_f.apply(lambda col: LabelEncoder().fit_transform(col))\n",
    "cat_results = Parallel(n_jobs=max_threads)(delayed(do_StepMix_covar)(n, 'categorical', data) for n in clust_range)\n",
    "LCA_covar_all = pd.DataFrame(cat_results)\n",
    "\n",
    "# Data preprocessing?\n",
    "num_results = Parallel(n_jobs=max_threads)(delayed(do_StepMix_covar)(n, 'continuous', data_n) for n in clust_range)\n",
    "LPA_covar_all = pd.DataFrame(num_results)"
   ]
  },
  {
   "cell_type": "markdown",
   "id": "64d8e1dc-5d1b-415a-b51f-a7b75be5ca46",
   "metadata": {},
   "source": [
    "## Best latent models"
   ]
  },
  {
   "cell_type": "code",
   "execution_count": null,
   "id": "d2e6a8b3-eaad-4b81-a4cf-19367debf6cf",
   "metadata": {},
   "outputs": [],
   "source": [
    "# How to select models based on aic / bic: using their absolute minimum, or an elbow method?\n",
    "# Absolute minimum yields the model with the most classes, so not appropriate\n",
    "LCA_aic_min = LCA_all.sort_values('aic', ascending=True).iloc[0]\n",
    "LCA_bic_min = LCA_all.sort_values('bic', ascending=True).iloc[0]\n",
    "\n",
    "LPA_aic_min = LPA_all.sort_values('aic', ascending=True).iloc[0]\n",
    "LPA_bic_min = LPA_all.sort_values('bic', ascending=True).iloc[0]\n",
    "\n",
    "abs_fit = pd.DataFrame([LCA_aic_min, LCA_bic_min, LPA_aic_min, LPA_bic_min])\n",
    "abs_fit = abs_fit.drop_duplicates().reset_index(drop=True)\n",
    "abs_fit"
   ]
  },
  {
   "cell_type": "code",
   "execution_count": 10,
   "id": "f50aa4fe-c8bf-490b-a51e-cb3287f70b1d",
   "metadata": {},
   "outputs": [],
   "source": [
    "# Find best models according to relative fit = LRT / BLRT / BVR (LCA only)"
   ]
  },
  {
   "cell_type": "code",
   "execution_count": 16,
   "id": "0a9fa7ce-84ae-4f7c-818e-aec8cb2c57f9",
   "metadata": {},
   "outputs": [],
   "source": [
    "# Find best model through the Elbow method\n",
    "def elbow_method(df, val_index):\n",
    "    res = df.dropna(subset=[val_index])\n",
    "\n",
    "    x = res[\"n_clust\"]\n",
    "    y = res[val_index]\n",
    "\n",
    "    if val_index in ['davies_bouldin', 'entropy']:\n",
    "        knee_locator = KneeLocator(x, y, curve='concave', direction='increasing')\n",
    "    else:\n",
    "        knee_locator = KneeLocator(x, y, curve='convex', direction='decreasing')\n",
    "    \n",
    "    return res[res[\"n_clust\"] == knee_locator.knee]\n",
    "\n",
    "models = [LCA_all, LPA_all] + [LCA_covar_all, LPA_covar_all]\n",
    "\n",
    "params = product(models, val_indexes + ['aic', 'bic', 'entropy'])\n",
    "\n",
    "latent_elbow = pd.DataFrame()\n",
    "for model, val_index in params:\n",
    "    best_model = elbow_method(model, val_index)\n",
    "    latent_elbow = pd.concat([latent_elbow, best_model], ignore_index=True)"
   ]
  },
  {
   "cell_type": "code",
   "execution_count": 17,
   "id": "d1a49207-56b4-4705-9a3a-b8afe7d740b3",
   "metadata": {},
   "outputs": [],
   "source": [
    "# Find absolute best models for each validity index\n",
    "latent_elbow = latent_elbow.drop_duplicates().reset_index(drop=True)\n",
    "# Need to add colums indicating which validity index is maximized.\n",
    "# After that, duplicate models should be merged, not dropped.\n",
    "\n",
    "best_silhouette = latent_elbow.sort_values('silhouette', ascending=False).iloc[0]\n",
    "best_ch = latent_elbow.sort_values('calinski_harabasz', ascending=False).iloc[0]\n",
    "best_db = latent_elbow.sort_values('davies_bouldin', ascending=True).iloc[0]\n",
    "best_dunn = latent_elbow.sort_values('dunn', ascending=False).iloc[0]\n",
    "best_inertia = latent_elbow.sort_values('inertia', ascending=False).iloc[0]\n",
    "\n",
    "best_aic = latent_elbow.sort_values('aic', ascending=True).iloc[0]\n",
    "best_bic = latent_elbow.sort_values('bic', ascending=True).iloc[0]\n",
    "best_entropy = latent_elbow.sort_values('entropy', ascending=False).iloc[0]\n",
    "\n",
    "latent_best = pd.DataFrame([best_silhouette, best_ch, best_db, best_dunn, best_inertia])\n",
    "latent_best = latent_best.drop_duplicates().reset_index(drop=True)"
   ]
  },
  {
   "cell_type": "code",
   "execution_count": 18,
   "id": "caa6a49d-a534-4240-a6ee-c0a08e48e7e2",
   "metadata": {},
   "outputs": [
    {
     "data": {
      "text/html": [
       "<div>\n",
       "<style scoped>\n",
       "    .dataframe tbody tr th:only-of-type {\n",
       "        vertical-align: middle;\n",
       "    }\n",
       "\n",
       "    .dataframe tbody tr th {\n",
       "        vertical-align: top;\n",
       "    }\n",
       "\n",
       "    .dataframe thead th {\n",
       "        text-align: right;\n",
       "    }\n",
       "</style>\n",
       "<table border=\"1\" class=\"dataframe\">\n",
       "  <thead>\n",
       "    <tr style=\"text-align: right;\">\n",
       "      <th></th>\n",
       "      <th>model</th>\n",
       "      <th>params</th>\n",
       "      <th>n_clust</th>\n",
       "      <th>min_clust_size</th>\n",
       "      <th>max_clust_size</th>\n",
       "      <th>silhouette</th>\n",
       "      <th>calinski_harabasz</th>\n",
       "      <th>davies_bouldin</th>\n",
       "      <th>dunn</th>\n",
       "      <th>inertia</th>\n",
       "      <th>LL</th>\n",
       "      <th>aic</th>\n",
       "      <th>bic</th>\n",
       "      <th>entropy</th>\n",
       "    </tr>\n",
       "  </thead>\n",
       "  <tbody>\n",
       "    <tr>\n",
       "      <th>0</th>\n",
       "      <td>LPA</td>\n",
       "      <td>with covariates</td>\n",
       "      <td>4</td>\n",
       "      <td>151</td>\n",
       "      <td>568</td>\n",
       "      <td>0.057963</td>\n",
       "      <td>87.962513</td>\n",
       "      <td>4.047701</td>\n",
       "      <td>0.182022</td>\n",
       "      <td>24336.761449</td>\n",
       "      <td>-16.129430</td>\n",
       "      <td>39718.515486</td>\n",
       "      <td>39718.515486</td>\n",
       "      <td>NaN</td>\n",
       "    </tr>\n",
       "    <tr>\n",
       "      <th>1</th>\n",
       "      <td>LCA</td>\n",
       "      <td>with covariates</td>\n",
       "      <td>3</td>\n",
       "      <td>252</td>\n",
       "      <td>521</td>\n",
       "      <td>0.050484</td>\n",
       "      <td>126.332511</td>\n",
       "      <td>3.171285</td>\n",
       "      <td>0.194933</td>\n",
       "      <td>24366.585297</td>\n",
       "      <td>-23.212452</td>\n",
       "      <td>57062.257428</td>\n",
       "      <td>57062.257428</td>\n",
       "      <td>NaN</td>\n",
       "    </tr>\n",
       "    <tr>\n",
       "      <th>2</th>\n",
       "      <td>LCA</td>\n",
       "      <td>without covariates</td>\n",
       "      <td>4</td>\n",
       "      <td>105</td>\n",
       "      <td>432</td>\n",
       "      <td>0.050236</td>\n",
       "      <td>104.346795</td>\n",
       "      <td>3.006889</td>\n",
       "      <td>0.228913</td>\n",
       "      <td>23397.961936</td>\n",
       "      <td>-22.804706</td>\n",
       "      <td>56157.435618</td>\n",
       "      <td>56157.435618</td>\n",
       "      <td>194.329094</td>\n",
       "    </tr>\n",
       "    <tr>\n",
       "      <th>3</th>\n",
       "      <td>LCA</td>\n",
       "      <td>without covariates</td>\n",
       "      <td>3</td>\n",
       "      <td>253</td>\n",
       "      <td>527</td>\n",
       "      <td>0.050062</td>\n",
       "      <td>126.102058</td>\n",
       "      <td>3.165817</td>\n",
       "      <td>0.195118</td>\n",
       "      <td>24374.255479</td>\n",
       "      <td>-23.209650</td>\n",
       "      <td>56955.449635</td>\n",
       "      <td>56955.449635</td>\n",
       "      <td>186.249380</td>\n",
       "    </tr>\n",
       "  </tbody>\n",
       "</table>\n",
       "</div>"
      ],
      "text/plain": [
       "  model              params  n_clust  min_clust_size  max_clust_size  \\\n",
       "0   LPA     with covariates        4             151             568   \n",
       "1   LCA     with covariates        3             252             521   \n",
       "2   LCA  without covariates        4             105             432   \n",
       "3   LCA  without covariates        3             253             527   \n",
       "\n",
       "   silhouette  calinski_harabasz  davies_bouldin      dunn       inertia  \\\n",
       "0    0.057963          87.962513        4.047701  0.182022  24336.761449   \n",
       "1    0.050484         126.332511        3.171285  0.194933  24366.585297   \n",
       "2    0.050236         104.346795        3.006889  0.228913  23397.961936   \n",
       "3    0.050062         126.102058        3.165817  0.195118  24374.255479   \n",
       "\n",
       "          LL           aic           bic     entropy  \n",
       "0 -16.129430  39718.515486  39718.515486         NaN  \n",
       "1 -23.212452  57062.257428  57062.257428         NaN  \n",
       "2 -22.804706  56157.435618  56157.435618  194.329094  \n",
       "3 -23.209650  56955.449635  56955.449635  186.249380  "
      ]
     },
     "execution_count": 18,
     "metadata": {},
     "output_type": "execute_result"
    }
   ],
   "source": [
    "latent_best"
   ]
  },
  {
   "cell_type": "markdown",
   "id": "21f439f8-bcc6-4251-a179-ba8dc0bdfa7a",
   "metadata": {},
   "source": [
    "The inclusion of covariates makes almost no difference.\n",
    "\n",
    "All selected models have 3-4 clusters\n",
    "\n",
    "The best model overall seems to be the LPA one.\n",
    "- It has lower entropy, meaning it classifies the individuals with better certainty.\n",
    "- It has lower aic and bic, meaning better model fit."
   ]
  },
  {
   "cell_type": "markdown",
   "id": "8d893bba-c892-432d-9cb0-85d85acd6304",
   "metadata": {},
   "source": [
    "# K-means"
   ]
  },
  {
   "cell_type": "code",
   "execution_count": 20,
   "id": "553fc039-719c-418c-bf1a-e6eca6a7d826",
   "metadata": {},
   "outputs": [],
   "source": [
    "def do_kmeans(n):\n",
    "    kmeans = KMeans(\n",
    "        n_clusters=n,\n",
    "        init='k-means++',\n",
    "        n_init=25,\n",
    "        random_state=42)\n",
    "    pred_clust = kmeans.fit_predict(data)\n",
    "    \n",
    "    model = 'kmeans'\n",
    "    params = 'centroid'\n",
    "    \n",
    "    return get_metrics(model, params, n, data, pred_clust)\n",
    "\n",
    "scaler = StandardScaler()\n",
    "data = scaler.fit_transform(data_n)\n",
    "\n",
    "clust_range = range(1, max_clust+1)\n",
    "\n",
    "results = Parallel(n_jobs=max_threads)(delayed(do_kmeans)(n) for n in clust_range)\n",
    "kmeans_all = pd.DataFrame(results)"
   ]
  },
  {
   "cell_type": "code",
   "execution_count": 21,
   "id": "6d088363-80ec-475d-a431-4d72d78d9e3d",
   "metadata": {},
   "outputs": [],
   "source": [
    "# Add other models, which are not implemented in sklearn"
   ]
  },
  {
   "cell_type": "code",
   "execution_count": 22,
   "id": "08613620-a1be-4a57-8e70-3b424df77619",
   "metadata": {},
   "outputs": [],
   "source": [
    "# Find best model for each combination of parameters through the Elbow method\n",
    "def elbow_method(val_index):\n",
    "    res = kmeans_all.dropna(subset=[val_index])\n",
    "\n",
    "    x = res[\"n_clust\"]\n",
    "    y = res[val_index]\n",
    "\n",
    "    if val_index == 'davies_bouldin':\n",
    "        knee_locator = KneeLocator(x, y, curve='concave', direction='increasing')\n",
    "    else:\n",
    "        knee_locator = KneeLocator(x, y, curve='convex', direction='decreasing')\n",
    "    \n",
    "    return res[res[\"n_clust\"] == knee_locator.knee]\n",
    "\n",
    "kmeans_elbow = pd.DataFrame()\n",
    "\n",
    "for val_index in val_indexes:\n",
    "    best_mod = elbow_method(val_index)\n",
    "    kmeans_elbow = pd.concat([kmeans_elbow, best_mod], ignore_index=True)"
   ]
  },
  {
   "cell_type": "code",
   "execution_count": 23,
   "id": "4aefa7f6-75a4-43e1-9b09-6e9379f34a80",
   "metadata": {},
   "outputs": [],
   "source": [
    "# Find absolute best models for each validity index\n",
    "kmeans_elbow = kmeans_elbow.drop_duplicates().reset_index(drop=True)\n",
    "# Need to add colums indicating which validity index is maximized.\n",
    "# After that, duplicate models should be merged, not dropped.\n",
    "\n",
    "best_silhouette = kmeans_elbow.sort_values('silhouette', ascending=False).iloc[0]\n",
    "best_ch = kmeans_elbow.sort_values('calinski_harabasz', ascending=False).iloc[0]\n",
    "best_db = kmeans_elbow.sort_values('davies_bouldin', ascending=True).iloc[0]\n",
    "best_dunn = kmeans_elbow.sort_values('dunn', ascending=False).iloc[0]\n",
    "best_inertia = kmeans_elbow.sort_values('inertia', ascending=False).iloc[0]\n",
    "\n",
    "kmeans_best = pd.DataFrame([best_silhouette, best_ch, best_db, best_dunn, best_inertia])\n",
    "kmeans_best = kmeans_best.drop_duplicates().reset_index(drop=True)"
   ]
  },
  {
   "cell_type": "code",
   "execution_count": 24,
   "id": "b40857af-6908-476b-b42e-82f9d8b191a8",
   "metadata": {},
   "outputs": [
    {
     "data": {
      "text/html": [
       "<div>\n",
       "<style scoped>\n",
       "    .dataframe tbody tr th:only-of-type {\n",
       "        vertical-align: middle;\n",
       "    }\n",
       "\n",
       "    .dataframe tbody tr th {\n",
       "        vertical-align: top;\n",
       "    }\n",
       "\n",
       "    .dataframe thead th {\n",
       "        text-align: right;\n",
       "    }\n",
       "</style>\n",
       "<table border=\"1\" class=\"dataframe\">\n",
       "  <thead>\n",
       "    <tr style=\"text-align: right;\">\n",
       "      <th></th>\n",
       "      <th>model</th>\n",
       "      <th>params</th>\n",
       "      <th>n_clust</th>\n",
       "      <th>min_clust_size</th>\n",
       "      <th>max_clust_size</th>\n",
       "      <th>silhouette</th>\n",
       "      <th>calinski_harabasz</th>\n",
       "      <th>davies_bouldin</th>\n",
       "      <th>dunn</th>\n",
       "      <th>inertia</th>\n",
       "    </tr>\n",
       "  </thead>\n",
       "  <tbody>\n",
       "    <tr>\n",
       "      <th>0</th>\n",
       "      <td>kmeans</td>\n",
       "      <td>centroid</td>\n",
       "      <td>3</td>\n",
       "      <td>179</td>\n",
       "      <td>619</td>\n",
       "      <td>0.116520</td>\n",
       "      <td>174.730216</td>\n",
       "      <td>2.552245</td>\n",
       "      <td>0.267663</td>\n",
       "      <td>21690.808999</td>\n",
       "    </tr>\n",
       "    <tr>\n",
       "      <th>1</th>\n",
       "      <td>kmeans</td>\n",
       "      <td>centroid</td>\n",
       "      <td>4</td>\n",
       "      <td>128</td>\n",
       "      <td>517</td>\n",
       "      <td>0.114521</td>\n",
       "      <td>147.423772</td>\n",
       "      <td>2.332205</td>\n",
       "      <td>0.305582</td>\n",
       "      <td>20469.353506</td>\n",
       "    </tr>\n",
       "  </tbody>\n",
       "</table>\n",
       "</div>"
      ],
      "text/plain": [
       "    model    params  n_clust  min_clust_size  max_clust_size  silhouette  \\\n",
       "0  kmeans  centroid        3             179             619    0.116520   \n",
       "1  kmeans  centroid        4             128             517    0.114521   \n",
       "\n",
       "   calinski_harabasz  davies_bouldin      dunn       inertia  \n",
       "0         174.730216        2.552245  0.267663  21690.808999  \n",
       "1         147.423772        2.332205  0.305582  20469.353506  "
      ]
     },
     "execution_count": 24,
     "metadata": {},
     "output_type": "execute_result"
    }
   ],
   "source": [
    "kmeans_best"
   ]
  },
  {
   "cell_type": "markdown",
   "id": "24849e55-57cb-4680-9a5b-c8951503d389",
   "metadata": {},
   "source": [
    "# AHC"
   ]
  },
  {
   "cell_type": "code",
   "execution_count": 25,
   "id": "53b6d279-76b0-4cc9-a36c-d1b0db6bdd51",
   "metadata": {},
   "outputs": [],
   "source": [
    "# Fit the models\n",
    "def do_AHC(n, dist, link):\n",
    "    ahc = AgglomerativeClustering(\n",
    "        n_clusters = n,\n",
    "        metric = dist,\n",
    "        linkage = link)\n",
    "    \n",
    "    ahc.fit(data)\n",
    "    pred_clust = ahc.labels_\n",
    "\n",
    "    model = 'AHC'\n",
    "    params = f\"distance = {dist}, linkage = {link}\"\n",
    "\n",
    "    return get_metrics(model, params, n, data, pred_clust)\n",
    "\n",
    "scaler = StandardScaler()\n",
    "data = scaler.fit_transform(data_n)\n",
    "\n",
    "clust_range = range(1, max_clust+1)\n",
    "distances = ['manhattan', 'euclidean', 'chebyshev']\n",
    "linkages = ['single', 'average', 'complete']\n",
    "params = product(clust_range, distances, linkages)\n",
    "\n",
    "results = Parallel(n_jobs=max_threads)(delayed(do_AHC)(n, dist, link) for n, dist, link in params)\n",
    "results.extend([do_AHC(n, 'euclidean', 'ward') for n in clust_range])\n",
    "ahc_all = pd.DataFrame(results)"
   ]
  },
  {
   "cell_type": "code",
   "execution_count": 26,
   "id": "ed7351b9-0ffc-4a85-b55f-569c986db981",
   "metadata": {},
   "outputs": [],
   "source": [
    "# Find best model for each combination of parameters through the Elbow method\n",
    "def elbow_method(dist, link, val_index):\n",
    "    params = f\"distance = {dist}, linkage = {link}\"\n",
    "    res = ahc_all[ahc_all['params'] == params]\n",
    "    \n",
    "    res = res.dropna(subset=[val_index])\n",
    "\n",
    "    x = res[\"n_clust\"]\n",
    "    y = res[val_index]\n",
    "\n",
    "    if val_index == 'davies_bouldin':\n",
    "        knee_locator = KneeLocator(x, y, curve='concave', direction='increasing')\n",
    "    else:\n",
    "        knee_locator = KneeLocator(x, y, curve='convex', direction='decreasing')\n",
    "    \n",
    "    return res[res[\"n_clust\"] == knee_locator.knee]\n",
    "\n",
    "ahc_elbow = pd.DataFrame()\n",
    "\n",
    "distances = ['manhattan', 'euclidean', 'chebyshev']\n",
    "linkages = ['single', 'average', 'complete']\n",
    "models = product(distances, linkages)\n",
    "\n",
    "for dist, link in models:\n",
    "    for val_index in val_indexes:\n",
    "        best_mod = elbow_method(dist, link, val_index)\n",
    "        ahc_elbow = pd.concat([ahc_elbow, best_mod], ignore_index=True)"
   ]
  },
  {
   "cell_type": "code",
   "execution_count": 27,
   "id": "4d8c12d3-f653-4861-a828-285aebb43187",
   "metadata": {},
   "outputs": [],
   "source": [
    "# Find absolute best models for each validity index\n",
    "ahc_elbow = ahc_elbow.drop_duplicates().reset_index(drop=True)\n",
    "# Need to add colums indicating which validity index is maximized.\n",
    "# After that, duplicate models should be merged, not dropped.\n",
    "\n",
    "best_silhouette = ahc_elbow.sort_values('silhouette', ascending=False).iloc[0]\n",
    "best_ch = ahc_elbow.sort_values('calinski_harabasz', ascending=False).iloc[0]\n",
    "best_db = ahc_elbow.sort_values('davies_bouldin', ascending=True).iloc[0]\n",
    "best_dunn = ahc_elbow.sort_values('dunn', ascending=False).iloc[0]\n",
    "best_inertia = ahc_elbow.sort_values('inertia', ascending=False).iloc[0]\n",
    "\n",
    "ahc_best = pd.DataFrame([best_silhouette, best_ch, best_db, best_dunn, best_inertia])\n",
    "ahc_best = ahc_best.drop_duplicates().reset_index(drop=True)"
   ]
  },
  {
   "cell_type": "code",
   "execution_count": 28,
   "id": "987589e4-0282-450f-a274-c814fec146b2",
   "metadata": {},
   "outputs": [
    {
     "data": {
      "text/html": [
       "<div>\n",
       "<style scoped>\n",
       "    .dataframe tbody tr th:only-of-type {\n",
       "        vertical-align: middle;\n",
       "    }\n",
       "\n",
       "    .dataframe tbody tr th {\n",
       "        vertical-align: top;\n",
       "    }\n",
       "\n",
       "    .dataframe thead th {\n",
       "        text-align: right;\n",
       "    }\n",
       "</style>\n",
       "<table border=\"1\" class=\"dataframe\">\n",
       "  <thead>\n",
       "    <tr style=\"text-align: right;\">\n",
       "      <th></th>\n",
       "      <th>model</th>\n",
       "      <th>params</th>\n",
       "      <th>n_clust</th>\n",
       "      <th>min_clust_size</th>\n",
       "      <th>max_clust_size</th>\n",
       "      <th>silhouette</th>\n",
       "      <th>calinski_harabasz</th>\n",
       "      <th>davies_bouldin</th>\n",
       "      <th>dunn</th>\n",
       "      <th>inertia</th>\n",
       "    </tr>\n",
       "  </thead>\n",
       "  <tbody>\n",
       "    <tr>\n",
       "      <th>0</th>\n",
       "      <td>AHC</td>\n",
       "      <td>distance = chebyshev, linkage = average</td>\n",
       "      <td>2</td>\n",
       "      <td>7</td>\n",
       "      <td>1208</td>\n",
       "      <td>0.490524</td>\n",
       "      <td>26.842099</td>\n",
       "      <td>1.270629</td>\n",
       "      <td>0.725333</td>\n",
       "      <td>27340.001628</td>\n",
       "    </tr>\n",
       "    <tr>\n",
       "      <th>1</th>\n",
       "      <td>AHC</td>\n",
       "      <td>distance = manhattan, linkage = complete</td>\n",
       "      <td>4</td>\n",
       "      <td>23</td>\n",
       "      <td>998</td>\n",
       "      <td>0.219579</td>\n",
       "      <td>87.743145</td>\n",
       "      <td>2.477509</td>\n",
       "      <td>0.456931</td>\n",
       "      <td>22955.310886</td>\n",
       "    </tr>\n",
       "    <tr>\n",
       "      <th>2</th>\n",
       "      <td>AHC</td>\n",
       "      <td>distance = euclidean, linkage = single</td>\n",
       "      <td>7</td>\n",
       "      <td>1</td>\n",
       "      <td>1209</td>\n",
       "      <td>0.444488</td>\n",
       "      <td>6.341945</td>\n",
       "      <td>0.376784</td>\n",
       "      <td>0.611806</td>\n",
       "      <td>27091.621277</td>\n",
       "    </tr>\n",
       "    <tr>\n",
       "      <th>3</th>\n",
       "      <td>AHC</td>\n",
       "      <td>distance = manhattan, linkage = single</td>\n",
       "      <td>2</td>\n",
       "      <td>1</td>\n",
       "      <td>1214</td>\n",
       "      <td>0.480257</td>\n",
       "      <td>5.962088</td>\n",
       "      <td>0.386106</td>\n",
       "      <td>0.912537</td>\n",
       "      <td>27808.317684</td>\n",
       "    </tr>\n",
       "    <tr>\n",
       "      <th>4</th>\n",
       "      <td>AHC</td>\n",
       "      <td>distance = manhattan, linkage = single</td>\n",
       "      <td>1</td>\n",
       "      <td>1215</td>\n",
       "      <td>1215</td>\n",
       "      <td>NaN</td>\n",
       "      <td>NaN</td>\n",
       "      <td>NaN</td>\n",
       "      <td>NaN</td>\n",
       "      <td>27945.000000</td>\n",
       "    </tr>\n",
       "  </tbody>\n",
       "</table>\n",
       "</div>"
      ],
      "text/plain": [
       "  model                                    params  n_clust  min_clust_size  \\\n",
       "0   AHC   distance = chebyshev, linkage = average        2               7   \n",
       "1   AHC  distance = manhattan, linkage = complete        4              23   \n",
       "2   AHC    distance = euclidean, linkage = single        7               1   \n",
       "3   AHC    distance = manhattan, linkage = single        2               1   \n",
       "4   AHC    distance = manhattan, linkage = single        1            1215   \n",
       "\n",
       "   max_clust_size  silhouette  calinski_harabasz  davies_bouldin      dunn  \\\n",
       "0            1208    0.490524          26.842099        1.270629  0.725333   \n",
       "1             998    0.219579          87.743145        2.477509  0.456931   \n",
       "2            1209    0.444488           6.341945        0.376784  0.611806   \n",
       "3            1214    0.480257           5.962088        0.386106  0.912537   \n",
       "4            1215         NaN                NaN             NaN       NaN   \n",
       "\n",
       "        inertia  \n",
       "0  27340.001628  \n",
       "1  22955.310886  \n",
       "2  27091.621277  \n",
       "3  27808.317684  \n",
       "4  27945.000000  "
      ]
     },
     "execution_count": 28,
     "metadata": {},
     "output_type": "execute_result"
    }
   ],
   "source": [
    "ahc_best"
   ]
  },
  {
   "cell_type": "markdown",
   "id": "f597a400-a862-40ee-b669-d7a65cdc2fdf",
   "metadata": {},
   "source": [
    "AHC yields only one interesting model, where the smallest cluster is not nearly empty. This model have 4 clusters. But its biggest cluster gathers 85 % of the individuals, meaning the others are really small."
   ]
  },
  {
   "cell_type": "markdown",
   "id": "ebf5a07e-2a44-4e5e-826d-7a2ac4b6fe57",
   "metadata": {},
   "source": [
    "# HDBSCAN"
   ]
  },
  {
   "cell_type": "code",
   "execution_count": 30,
   "id": "23b99687-9544-4c98-b39e-ca692cf0de68",
   "metadata": {},
   "outputs": [],
   "source": [
    "# Fit the models\n",
    "def do_hdbscan(dist, min_c, min_s):\n",
    "    hdb = HDBSCAN(\n",
    "        metric = dist,\n",
    "        min_cluster_size = min_c, \n",
    "        min_samples = min_s)\n",
    "        \n",
    "    pred_clust = hdb.fit_predict(data)\n",
    "\n",
    "    model = 'HDBSCAN'\n",
    "    params = f\"distance = {dist}, min_cluster_size = {min_c}, min_samples = {min_s}\"\n",
    "    n = len(set(pred_clust[pred_clust != -1]))\n",
    "    noise_freq = 100 * sum(pred_clust == -1) / len(pred_clust)\n",
    "\n",
    "    return get_metrics(model, params, n, data, pred_clust, noise = noise_freq)\n",
    "\n",
    "scaler = StandardScaler()\n",
    "data = scaler.fit_transform(data_n)\n",
    "\n",
    "distances = ['euclidean', 'chebyshev']\n",
    "min_cluster_sizes = range(2, 16)\n",
    "min_samples_range = range(1, 16)\n",
    "params = product(distances, min_cluster_sizes, min_samples_range)\n",
    "\n",
    "results = Parallel(n_jobs=max_threads)(delayed(do_hdbscan)(dist, min_c, min_s) for dist, min_c, min_s in params)\n",
    "hdbscan_all = pd.DataFrame(results)"
   ]
  },
  {
   "cell_type": "code",
   "execution_count": 31,
   "id": "968b43fd-3261-4b35-885b-679ae6215117",
   "metadata": {},
   "outputs": [],
   "source": [
    "# The Elbow method is inapplicable here. We simply select the model maximizing each validity index.\n",
    "best_silhouette = hdbscan_all.sort_values('silhouette', ascending=False).iloc[0]\n",
    "best_ch = hdbscan_all.sort_values('calinski_harabasz', ascending=False).iloc[0]\n",
    "best_db = hdbscan_all.sort_values('davies_bouldin', ascending=True).iloc[0]\n",
    "best_dunn = hdbscan_all.sort_values('dunn', ascending=False).iloc[0]\n",
    "best_inertia = hdbscan_all.sort_values('inertia', ascending=False).iloc[0]\n",
    "\n",
    "hdbscan_best = pd.DataFrame([best_silhouette, best_ch, best_db, best_dunn, best_inertia])\n",
    "hdbscan_best = hdbscan_best.drop_duplicates().reset_index(drop=True)"
   ]
  },
  {
   "cell_type": "code",
   "execution_count": 32,
   "id": "3e8041b4-7446-4d90-a7c3-a3df81cb53f9",
   "metadata": {},
   "outputs": [
    {
     "data": {
      "text/html": [
       "<div>\n",
       "<style scoped>\n",
       "    .dataframe tbody tr th:only-of-type {\n",
       "        vertical-align: middle;\n",
       "    }\n",
       "\n",
       "    .dataframe tbody tr th {\n",
       "        vertical-align: top;\n",
       "    }\n",
       "\n",
       "    .dataframe thead th {\n",
       "        text-align: right;\n",
       "    }\n",
       "</style>\n",
       "<table border=\"1\" class=\"dataframe\">\n",
       "  <thead>\n",
       "    <tr style=\"text-align: right;\">\n",
       "      <th></th>\n",
       "      <th>model</th>\n",
       "      <th>params</th>\n",
       "      <th>n_clust</th>\n",
       "      <th>min_clust_size</th>\n",
       "      <th>max_clust_size</th>\n",
       "      <th>silhouette</th>\n",
       "      <th>calinski_harabasz</th>\n",
       "      <th>davies_bouldin</th>\n",
       "      <th>dunn</th>\n",
       "      <th>inertia</th>\n",
       "      <th>noise</th>\n",
       "    </tr>\n",
       "  </thead>\n",
       "  <tbody>\n",
       "    <tr>\n",
       "      <th>0</th>\n",
       "      <td>HDBSCAN</td>\n",
       "      <td>distance = euclidean, min_cluster_size = 4, mi...</td>\n",
       "      <td>2</td>\n",
       "      <td>4</td>\n",
       "      <td>1195</td>\n",
       "      <td>0.444052</td>\n",
       "      <td>33.316822</td>\n",
       "      <td>1.628486</td>\n",
       "      <td>0.653673</td>\n",
       "      <td>26488.697645</td>\n",
       "      <td>1.316872</td>\n",
       "    </tr>\n",
       "    <tr>\n",
       "      <th>1</th>\n",
       "      <td>HDBSCAN</td>\n",
       "      <td>distance = euclidean, min_cluster_size = 6, mi...</td>\n",
       "      <td>2</td>\n",
       "      <td>6</td>\n",
       "      <td>845</td>\n",
       "      <td>0.140333</td>\n",
       "      <td>95.687373</td>\n",
       "      <td>2.782017</td>\n",
       "      <td>0.272651</td>\n",
       "      <td>24134.209396</td>\n",
       "      <td>29.958848</td>\n",
       "    </tr>\n",
       "    <tr>\n",
       "      <th>2</th>\n",
       "      <td>HDBSCAN</td>\n",
       "      <td>distance = euclidean, min_cluster_size = 3, mi...</td>\n",
       "      <td>2</td>\n",
       "      <td>3</td>\n",
       "      <td>1207</td>\n",
       "      <td>-0.110898</td>\n",
       "      <td>3.254511</td>\n",
       "      <td>1.541517</td>\n",
       "      <td>0.069911</td>\n",
       "      <td>27795.723610</td>\n",
       "      <td>99.341564</td>\n",
       "    </tr>\n",
       "    <tr>\n",
       "      <th>3</th>\n",
       "      <td>HDBSCAN</td>\n",
       "      <td>distance = euclidean, min_cluster_size = 4, mi...</td>\n",
       "      <td>2</td>\n",
       "      <td>4</td>\n",
       "      <td>1195</td>\n",
       "      <td>0.444052</td>\n",
       "      <td>33.316822</td>\n",
       "      <td>1.628486</td>\n",
       "      <td>0.653673</td>\n",
       "      <td>26488.697645</td>\n",
       "      <td>1.316872</td>\n",
       "    </tr>\n",
       "    <tr>\n",
       "      <th>4</th>\n",
       "      <td>HDBSCAN</td>\n",
       "      <td>distance = euclidean, min_cluster_size = 15, m...</td>\n",
       "      <td>0</td>\n",
       "      <td>1215</td>\n",
       "      <td>1215</td>\n",
       "      <td>NaN</td>\n",
       "      <td>NaN</td>\n",
       "      <td>NaN</td>\n",
       "      <td>NaN</td>\n",
       "      <td>27945.000000</td>\n",
       "      <td>100.000000</td>\n",
       "    </tr>\n",
       "  </tbody>\n",
       "</table>\n",
       "</div>"
      ],
      "text/plain": [
       "     model                                             params  n_clust  \\\n",
       "0  HDBSCAN  distance = euclidean, min_cluster_size = 4, mi...        2   \n",
       "1  HDBSCAN  distance = euclidean, min_cluster_size = 6, mi...        2   \n",
       "2  HDBSCAN  distance = euclidean, min_cluster_size = 3, mi...        2   \n",
       "3  HDBSCAN  distance = euclidean, min_cluster_size = 4, mi...        2   \n",
       "4  HDBSCAN  distance = euclidean, min_cluster_size = 15, m...        0   \n",
       "\n",
       "   min_clust_size  max_clust_size  silhouette  calinski_harabasz  \\\n",
       "0               4            1195    0.444052          33.316822   \n",
       "1               6             845    0.140333          95.687373   \n",
       "2               3            1207   -0.110898           3.254511   \n",
       "3               4            1195    0.444052          33.316822   \n",
       "4            1215            1215         NaN                NaN   \n",
       "\n",
       "   davies_bouldin      dunn       inertia       noise  \n",
       "0        1.628486  0.653673  26488.697645    1.316872  \n",
       "1        2.782017  0.272651  24134.209396   29.958848  \n",
       "2        1.541517  0.069911  27795.723610   99.341564  \n",
       "3        1.628486  0.653673  26488.697645    1.316872  \n",
       "4             NaN       NaN  27945.000000  100.000000  "
      ]
     },
     "execution_count": 32,
     "metadata": {},
     "output_type": "execute_result"
    }
   ],
   "source": [
    "hdbscan_best"
   ]
  },
  {
   "cell_type": "markdown",
   "id": "24a32c9a-09b3-4d8a-9b71-152d93c37c66",
   "metadata": {},
   "source": [
    "HDBSCAN clusters all the individuals together. Based on density, there is only one cluster."
   ]
  },
  {
   "cell_type": "code",
   "execution_count": 33,
   "id": "5a21c7c9-0aa6-4edd-85ab-a71147062c21",
   "metadata": {},
   "outputs": [
    {
     "data": {
      "image/png": "[encoded data removed]",
      "text/plain": [
       "<Figure size 800x400 with 1 Axes>"
      ]
     },
     "metadata": {},
     "output_type": "display_data"
    }
   ],
   "source": [
    "# Histogram of the number of clusters selected by HDBSCAN modelsgrouping the values above 15\n",
    "bins = list(range(1, 16)) + [15.5]\n",
    "labels = list(range(1, 15)) + ['15+']\n",
    "plot_data = hdbscan_all['n_clust'].apply(lambda x: x if x <= 15 else 15.5)\n",
    "\n",
    "plt.figure(figsize=(8, 4))\n",
    "plt.hist(plot_data, bins=bins, edgecolor='black', align='left', rwidth=0.8)\n",
    "plt.xticks(bins[:-1], labels)\n",
    "plt.xlabel('Number of Clusters')\n",
    "plt.ylabel('Number of Models')\n",
    "plt.title('Number of clusters selected by HDBSCAN models')\n",
    "plt.show()"
   ]
  },
  {
   "cell_type": "code",
   "execution_count": null,
   "id": "b7d64ccb-95d1-4cb2-8897-31d96b8ab6d4",
   "metadata": {},
   "outputs": [],
   "source": [
    "# Fitting one of the best models for n=2\n",
    "scaler = StandardScaler()\n",
    "data = scaler.fit_transform(data_n)\n",
    "\n",
    "hdb = HDBSCAN(metric = 'euclidean', min_cluster_size = 4, min_samples = 2)  \n",
    "pred_clust = hdb.fit_predict(data)\n",
    "n_clusters = len(set(pred_clust[pred_clust != -1]))\n",
    "\n",
    "# Plotting datapoints and clusters in 2D space\n",
    "plt.figure(figsize=(8, 6))\n",
    "\n",
    "## PCA to define the 2D space\n",
    "pca = PCA(n_components=2)\n",
    "reduced_space = pca.fit_transform(data)\n",
    "\n",
    "## Create hulls around clusters\n",
    "hull_vertices = []\n",
    "hull_colors = []\n",
    "for i in range(n_clusters):\n",
    "    cluster_points = reduced_space[pred_clust == i]\n",
    "    if len(cluster_points) > 2:\n",
    "        hull = ConvexHull(cluster_points)\n",
    "        hull_vertices.append((\n",
    "            cluster_points[hull.vertices, 0],\n",
    "            cluster_points[hull.vertices, 1]\n",
    "        ))\n",
    "        hull_colors.append(i)\n",
    "\n",
    "## Plot datapoints\n",
    "scatter = plt.scatter(reduced_space[:, 0], reduced_space[:, 1], \n",
    "                     c=pred_clust, cmap='tab10', \n",
    "                     s=15, edgecolors='k')\n",
    "\n",
    "## Plot hulls using the same colormap\n",
    "for vertices, i in zip(hull_vertices, hull_colors):\n",
    "    plt.fill(vertices[0], vertices[1], \n",
    "             alpha=0.7,\n",
    "             color=scatter.cmap(scatter.norm(i)))\n",
    "\n",
    "legend = plt.legend(*scatter.legend_elements())\n",
    "plt.xlabel(\"Dim 1\")\n",
    "plt.ylabel(\"Dim 2\")\n",
    "plt.title(\"Clusters with Convex Hulls\")\n",
    "plt.show()"
   ]
  },
  {
   "cell_type": "markdown",
   "id": "697f076e-6827-4bb5-8398-80c9a5151938",
   "metadata": {},
   "source": [
    "# Aggregate and display results"
   ]
  },
  {
   "cell_type": "code",
   "execution_count": null,
   "id": "c44f939c-246a-4741-a7c1-810f1aaf35bc",
   "metadata": {},
   "outputs": [],
   "source": [
    "best_mod_list = [kmeans_best, ahc_best, hdbscan_best]\n",
    "best_models = pd.concat(best_mod_list, ignore_index=True)"
   ]
  },
  {
   "cell_type": "code",
   "execution_count": null,
   "id": "cd5961a1-7104-4748-8390-554a430ca628",
   "metadata": {},
   "outputs": [],
   "source": [
    "best_models"
   ]
  },
  {
   "cell_type": "code",
   "execution_count": null,
   "id": "cb391ae1-da07-4c1e-bc6f-47bea22d93e4",
   "metadata": {},
   "outputs": [],
   "source": [
    "# Selecting the best performing model on each criteria across model classes eliminates hdbscan models\n",
    "# Which could mean hdbscan is underperforming\n",
    "# Or is picking non-convex clusters\n",
    "# Or that data is non-clusterable!\n",
    "best_mod_list = [kmeans_best, ahc_best, hdbscan_best]\n",
    "best_models = pd.concat(best_mod_list, ignore_index=True)\n",
    "\n",
    "best_silhouette = best_models.sort_values('silhouette', ascending=False).iloc[0]\n",
    "best_ch = best_models.sort_values('calinski_harabasz', ascending=False).iloc[0]\n",
    "best_db = best_models.sort_values('davies_bouldin', ascending=True).iloc[0]\n",
    "best_dunn = best_models.sort_values('dunn', ascending=False).iloc[0]\n",
    "best_inertia = best_models.sort_values('inertia', ascending=False).iloc[0]\n",
    "\n",
    "best_models = pd.DataFrame([best_silhouette, best_ch, best_db, best_dunn, best_inertia])\n",
    "best_models = best_models.drop_duplicates().reset_index(drop=True)"
   ]
  },
  {
   "cell_type": "code",
   "execution_count": null,
   "id": "42faee4a-4cee-41d1-8bcd-3ab5a699f1aa",
   "metadata": {},
   "outputs": [],
   "source": [
    "best_models"
   ]
  },
  {
   "cell_type": "code",
   "execution_count": null,
   "id": "1a79babe-8f25-491a-a288-df2da0cff964",
   "metadata": {},
   "outputs": [],
   "source": [
    "# Histogram\n",
    "bins = np.arange(best_models['n_clust'].min() - 0.5, best_models['n_clust'].max() + 1.5, 1)\n",
    "\n",
    "plt.figure(figsize=(8, 4))\n",
    "plt.hist(best_models['n_clust'], bins=bins, edgecolor='black', rwidth=0.8)\n",
    "plt.xlabel('Number of Clusters')\n",
    "plt.ylabel('Number of Models')\n",
    "plt.title('Optimal number of clusters according to best models')\n",
    "plt.show()"
   ]
  },
  {
   "cell_type": "markdown",
   "id": "ccf4f29e-94cf-45df-b915-ee88922d7570",
   "metadata": {},
   "source": [
    "# Clusters visualization "
   ]
  },
  {
   "cell_type": "code",
   "execution_count": null,
   "id": "fbabdc5c-3473-4a8f-8338-d4b5d2959e53",
   "metadata": {},
   "outputs": [],
   "source": [
    "# PCA to represent the clusters in 2D\n",
    "pca = PCA(n_components=2)\n",
    "X_reduced = pca.fit_transform(data)"
   ]
  },
  {
   "cell_type": "code",
   "execution_count": null,
   "id": "185b683a-3576-42be-8cd3-1b042ea88870",
   "metadata": {},
   "outputs": [],
   "source": [
    "# Fit an arbitrary kmeans model\n",
    "scaler = StandardScaler()\n",
    "data = scaler.fit_transform(data_n)\n",
    "\n",
    "kmeans = KMeans(n_clusters=7, random_state=42)\n",
    "pred_clust = kmeans.fit_predict(data)"
   ]
  },
  {
   "cell_type": "markdown",
   "id": "66241561-c493-43ab-b55c-0b21e0d88bcb",
   "metadata": {},
   "source": [
    "### Datapoints alone"
   ]
  },
  {
   "cell_type": "code",
   "execution_count": null,
   "id": "016a8155-394c-43f1-9094-f6b9506bc506",
   "metadata": {},
   "outputs": [],
   "source": [
    "plt.figure(figsize=(8, 6))\n",
    "plt.scatter(X_reduced[:, 0], X_reduced[:, 1], c=pred_clust, cmap='tab10', s=20, edgecolors='k')\n",
    "plt.xlabel(\"Dim 1\")\n",
    "plt.ylabel(\"Dim 2\")\n",
    "plt.axhline(y=0, color='#333333', linestyle='--', linewidth=1)\n",
    "plt.axvline(x=0, color='#333333', linestyle='--', linewidth=1)\n",
    "plt.title(\"Clusters\")\n",
    "plt.show()"
   ]
  },
  {
   "cell_type": "markdown",
   "id": "bc86e037-57fc-4e66-8c18-9decd265bb6b",
   "metadata": {},
   "source": [
    "### With decision boundaries"
   ]
  },
  {
   "cell_type": "code",
   "execution_count": null,
   "id": "b9b7bdaa-210e-4c32-93c2-b33373851eb7",
   "metadata": {},
   "outputs": [],
   "source": [
    "# Create a grid for boundary visualization in 2D space\n",
    "x_min, x_max = X_reduced[:, 0].min() - 0.5, X_reduced[:, 0].max() + 0.5\n",
    "y_min, y_max = X_reduced[:, 1].min() - 0.5, X_reduced[:, 1].max() + 0.5\n",
    "xx, yy = np.meshgrid(np.linspace(x_min, x_max, 300), np.linspace(y_min, y_max, 300))\n",
    "\n",
    "# Project grid points back to original space\n",
    "grid_points_2D = np.c_[xx.ravel(), yy.ravel()]\n",
    "grid_points_original = pca.inverse_transform(grid_points_2D)\n",
    "\n",
    "# Predict clusters in the original space\n",
    "grid_clusters = kmeans.predict(grid_points_original).reshape(xx.shape)\n",
    "\n",
    "plt.figure(figsize=(8, 6))\n",
    "\n",
    "# Create scatter plot first to get the color mapping\n",
    "scatter = plt.scatter(X_reduced[:, 0], X_reduced[:, 1], \n",
    "                     c=pred_clust, cmap='tab10', \n",
    "                     s=15, edgecolors='k')\n",
    "\n",
    "# Plot boundaries using the same colormap and normalization\n",
    "plt.contourf(xx, yy, grid_clusters, \n",
    "             alpha=0.3, \n",
    "             cmap=scatter.cmap,\n",
    "             norm=scatter.norm)\n",
    "\n",
    "# Plot centroids with labels\n",
    "centroids_pca = pca.transform(kmeans.cluster_centers_)\n",
    "for i, (x, y) in enumerate(centroids_pca):\n",
    "    plt.text(x, y, str(i), color='white', fontsize=12, \n",
    "             ha='center', va='center', fontweight='bold',\n",
    "             bbox=dict(facecolor='black', edgecolor='none', boxstyle='round,pad=0.2'))\n",
    "\n",
    "plt.xlabel(\"Dim 1\")\n",
    "plt.ylabel(\"Dim 2\")\n",
    "plt.title(\"Clusters with Decision Boundaries\")\n",
    "plt.show()"
   ]
  },
  {
   "cell_type": "markdown",
   "id": "f0fe364d-5884-412d-8e14-688a268096d7",
   "metadata": {},
   "source": [
    "### With convex hulls"
   ]
  },
  {
   "cell_type": "code",
   "execution_count": null,
   "id": "662b1ff5-b4d8-4a6e-bdf9-b09d7756ba4c",
   "metadata": {},
   "outputs": [],
   "source": [
    "plt.figure(figsize=(8, 6))\n",
    "\n",
    "# Collect all hull vertices\n",
    "hull_vertices = []\n",
    "hull_colors = []\n",
    "for i in range(kmeans.n_clusters):\n",
    "    cluster_points = X_reduced[pred_clust == i]\n",
    "    if len(cluster_points) > 2:\n",
    "        hull = ConvexHull(cluster_points)\n",
    "        hull_vertices.append((\n",
    "            cluster_points[hull.vertices, 0],\n",
    "            cluster_points[hull.vertices, 1]\n",
    "        ))\n",
    "        hull_colors.append(i)\n",
    "\n",
    "# Plot datapoints\n",
    "scatter = plt.scatter(X_reduced[:, 0], X_reduced[:, 1], \n",
    "                     c=pred_clust, cmap='tab10', \n",
    "                     s=15, edgecolors='k')\n",
    "\n",
    "# Plot all hulls using the same colormap\n",
    "for vertices, i in zip(hull_vertices, hull_colors):\n",
    "    plt.fill(vertices[0], vertices[1], \n",
    "             alpha=0.3,\n",
    "             color=scatter.cmap(scatter.norm(i)))\n",
    "\n",
    "legend = plt.legend(*scatter.legend_elements())\n",
    "plt.xlabel(\"Dim 1\")\n",
    "plt.ylabel(\"Dim 2\")\n",
    "plt.title(\"Clusters with Convex Hulls\")\n",
    "plt.show()"
   ]
  },
  {
   "attachments": {},
   "cell_type": "markdown",
   "id": "91d0f2f5-49b2-4e43-908f-142e8f3ef340",
   "metadata": {},
   "source": [
    "# Hopkins Statistic"
   ]
  },
  {
   "cell_type": "markdown",
   "id": "19619b2d-75a6-4033-ac85-8edbcf35c8de",
   "metadata": {},
   "source": [
    "Function from the pyclustertend package, which could not be installed because its depencies are outdated.\n",
    "See: https://pyclustertend.readthedocs.io/en/latest/_modules/pyclustertend/hopkins.html"
   ]
  },
  {
   "cell_type": "code",
   "execution_count": null,
   "id": "dabe45e4-854e-4523-baa7-f6e03b471f96",
   "metadata": {},
   "outputs": [],
   "source": [
    "from sklearn.neighbors import BallTree\n",
    "\n",
    "def hopkins(data_frame, sampling_size):\n",
    "    if type(data_frame) == np.ndarray:\n",
    "        data_frame = pd.DataFrame(data_frame)\n",
    "\n",
    "    # Sample n observations from D:P\n",
    "    if sampling_size > data_frame.shape[0]:\n",
    "        raise Exception(\n",
    "            'The number of sample of sample is bigger than the shape of D')\n",
    "\n",
    "    data_frame_sample = data_frame.sample(n=sampling_size)\n",
    "\n",
    "    # Get the distance to their neirest neighbors in D:X\n",
    "    tree = BallTree(data_frame, leaf_size=2)\n",
    "    dist, _ = tree.query(data_frame_sample, k=2)\n",
    "    data_frame_sample_distances_to_nearest_neighbours = dist[:, 1]\n",
    "\n",
    "    # Randomly simulate n points with the same variation as in D:Q\n",
    "    max_data_frame = data_frame.max()\n",
    "    min_data_frame = data_frame.min()\n",
    "\n",
    "    uniformly_selected_values_0 = np.random.uniform(min_data_frame[0], max_data_frame[0], sampling_size)\n",
    "    uniformly_selected_values_1 = np.random.uniform(min_data_frame[1], max_data_frame[1], sampling_size)\n",
    "\n",
    "    uniformly_selected_observations = np.column_stack((uniformly_selected_values_0, uniformly_selected_values_1))\n",
    "    if len(max_data_frame) >= 2:\n",
    "        for i in range(2, len(max_data_frame)):\n",
    "            uniformly_selected_values_i = np.random.uniform(min_data_frame[i], max_data_frame[i], sampling_size)\n",
    "            to_stack = (uniformly_selected_observations, uniformly_selected_values_i)\n",
    "            uniformly_selected_observations = np.column_stack(to_stack)\n",
    "\n",
    "    uniformly_selected_observations_df = pd.DataFrame(uniformly_selected_observations)\n",
    "\n",
    "    # Get the distance to their neirest neighbors in D:Y\n",
    "    tree = BallTree(data_frame, leaf_size=2)\n",
    "    dist, _ = tree.query(uniformly_selected_observations_df, k=1)\n",
    "    uniformly_df_distances_to_nearest_neighbours = dist\n",
    "\n",
    "    # Return the hopkins score\n",
    "    x = sum(data_frame_sample_distances_to_nearest_neighbours)\n",
    "    y = sum(uniformly_df_distances_to_nearest_neighbours)\n",
    "\n",
    "    if x + y == 0:\n",
    "        raise Exception('The denominator of the hopkins statistics is null')\n",
    "\n",
    "    return x / (x + y)[0]"
   ]
  },
  {
   "cell_type": "code",
   "execution_count": null,
   "id": "52fc5cdf-91b2-48ed-bef2-0a9c0fcfc470",
   "metadata": {},
   "outputs": [],
   "source": [
    "float(hopkins(data_n.values, data_n.shape[0]))"
   ]
  }
 ],
 "metadata": {
  "kernelspec": {
   "display_name": "Python 3 (ipykernel)",
   "language": "python",
   "name": "python3"
  },
  "language_info": {
   "codemirror_mode": {
    "name": "ipython",
    "version": 3
   },
   "file_extension": ".py",
   "mimetype": "text/x-python",
   "name": "python",
   "nbconvert_exporter": "python",
   "pygments_lexer": "ipython3",
   "version": "3.10.16"
  }
 },
 "nbformat": 4,
 "nbformat_minor": 5
}
