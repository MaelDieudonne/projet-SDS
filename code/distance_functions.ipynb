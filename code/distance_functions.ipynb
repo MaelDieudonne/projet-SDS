{
 "cells": [
  {
   "cell_type": "code",
   "execution_count": 1,
   "id": "22d6d258-016a-48b8-be0f-8775656dd7fc",
   "metadata": {},
   "outputs": [],
   "source": [
    "from scipy.spatial.distance import cityblock\n",
    "from scipy.spatial.distance import euclidean\n",
    "from scipy.spatial.distance import hamming\n",
    "from scipy.spatial.distance import canberra"
   ]
  },
  {
   "cell_type": "code",
   "execution_count": 2,
   "id": "e387565b-476f-4cdf-8284-ce79b1cb8560",
   "metadata": {},
   "outputs": [],
   "source": [
    "def print_dist(A,B):\n",
    "    print(f\"Manhattan : {cityblock(A, B)}\")\n",
    "    print(f\"Euclidean : {euclidean(A, B)}\")\n",
    "    print(f\"Hamming : {hamming(A, B)}\")\n",
    "    print(f\"Canberra : {canberra(A, B)}\")"
   ]
  },
  {
   "cell_type": "code",
   "execution_count": 3,
   "id": "2ecbb989-e690-4380-82d8-52ee92fbd925",
   "metadata": {},
   "outputs": [
    {
     "name": "stdout",
     "output_type": "stream",
     "text": [
      "Manhattan : 2\n",
      "Euclidean : 2.0\n",
      "Hamming : 0.25\n",
      "Canberra : 1.0\n"
     ]
    }
   ],
   "source": [
    "A = [0, -1, -1, 2]\n",
    "B = [0, 1, 1, 2]\n",
    "print_dist(A,B)"
   ]
  },
  {
   "cell_type": "code",
   "execution_count": 5,
   "id": "68ceeb9e-3330-4726-9d56-6778e5438641",
   "metadata": {},
   "outputs": [
    {
     "name": "stdout",
     "output_type": "stream",
     "text": [
      "Manhattan : 8\n",
      "Euclidean : 5.656854249492381\n",
      "Hamming : 0.5\n",
      "Canberra : 2.0\n"
     ]
    }
   ],
   "source": [
    "A = [0, -2, -2, 2]\n",
    "B = [0, 2, 2, 2]\n",
    "print_dist(A,B)"
   ]
  },
  {
   "cell_type": "code",
   "execution_count": 46,
   "id": "b14f3091-dec6-4057-9c82-d91e15dfb369",
   "metadata": {},
   "outputs": [
    {
     "name": "stdout",
     "output_type": "stream",
     "text": [
      "Manhattan : 3\n",
      "Euclidean : 2.23606797749979\n",
      "Hamming : 0.5\n",
      "Canberra : 1.3333333333333333\n"
     ]
    }
   ],
   "source": [
    "A = [0, 0, 1, 2]\n",
    "B = [0, 2, 2, 2]\n",
    "print_dist(A,B)"
   ]
  },
  {
   "cell_type": "code",
   "execution_count": 47,
   "id": "4145db0b-7b9f-4931-b03d-b3bc671696fd",
   "metadata": {},
   "outputs": [
    {
     "name": "stdout",
     "output_type": "stream",
     "text": [
      "Manhattan : 16\n",
      "Euclidean : 8.0\n",
      "Hamming : 1.0\n",
      "Canberra : 4.0\n"
     ]
    }
   ],
   "source": [
    "A = [-2, -2, -2, -2]\n",
    "B = [2, 2, 2, 2]\n",
    "print_dist(A,B)"
   ]
  },
  {
   "cell_type": "code",
   "execution_count": 48,
   "id": "04df4359-10cf-4348-a0e8-1bf9c3353a56",
   "metadata": {},
   "outputs": [
    {
     "name": "stdout",
     "output_type": "stream",
     "text": [
      "Manhattan : 8\n",
      "Euclidean : 4.0\n",
      "Hamming : 1.0\n",
      "Canberra : 4.0\n"
     ]
    }
   ],
   "source": [
    "A = [0, 0, 0, 0]\n",
    "B = [2, 2, 2, 2]\n",
    "print_dist(A,B)"
   ]
  },
  {
   "cell_type": "code",
   "execution_count": null,
   "id": "9e185578-8f68-42fe-9db1-b6ffb8b05f5e",
   "metadata": {},
   "outputs": [],
   "source": []
  }
 ],
 "metadata": {
  "kernelspec": {
   "display_name": "Python 3 (ipykernel)",
   "language": "python",
   "name": "python3"
  },
  "language_info": {
   "codemirror_mode": {
    "name": "ipython",
    "version": 3
   },
   "file_extension": ".py",
   "mimetype": "text/x-python",
   "name": "python",
   "nbconvert_exporter": "python",
   "pygments_lexer": "ipython3",
   "version": "3.10.16"
  }
 },
 "nbformat": 4,
 "nbformat_minor": 5
}
